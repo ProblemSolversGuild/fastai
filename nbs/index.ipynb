{
 "cells": [
  {
   "cell_type": "markdown",
   "metadata": {},
   "source": [
    "# Welcome to the Official `fastai` docment Sprint!\n",
    "\n",
    "Welcome! If you are new to Open Source or are a veteren expert, this event is aimed at providing all of you with a valuable experience to help contribute to the fastai library with the rewards of revamping and improving the documentation and providing you with a chance to learn something more about a function or class you don't know much about!\n",
    "\n",
    "\n"
   ]
  },
  {
   "cell_type": "markdown",
   "metadata": {},
   "source": [
    "## Getting Started\n",
    "\n",
    "First you should quickly watch the introductory stream [fastai docments Sprint Kick-Off](https://www.youtube.com/watch?v=luzrkNfBT4U&ab_channel=ZacharyMueller). It will quickly catch you up to speed on how to contribute to the library, what the overall sprint will look like, as well as the recommended way to create your first PR!\n",
    "\n",
    "Below are quick TL;DR's of what is stated in the video, meant as a quick reminder plus important links."
   ]
  },
  {
   "cell_type": "markdown",
   "metadata": {},
   "source": [
    "## Who Can Join?\n",
    "\n",
    "**You!**\n",
    "\n",
    "More specifically, anyone and everyone is invited to come along and help with this endevor. No matter how much experience you have with coding or the library, with the exploratory aspect of this sprint and it being documentation focused, much of the library's insides will be new to folks and prone to discovery so absolutely come in and try it out!"
   ]
  },
  {
   "cell_type": "markdown",
   "metadata": {},
   "source": [
    "## Communication\n",
    "\n",
    "Most of the communication of this sprint will live inside of the fastai [discord](https://discord.gg/3KmGsdMRFH). Inside, you can ping any of the senior members acting as guides throughout this sprint with any troubles, discuss the right way to approach a strange class, or just come say hi!\n",
    "\n",
    "I (Zach Mueller) will also be commiting to streaming for 2-3 hours for at least 4-5 days a week in the evenings (around 6pm EST) inside the Discord, with a few streams in the early morning for folks in other timezones. To keep an ear out for when I stream either keep an eye on the discord, or follow me on [twitter](https://twitter.com/TheZachMueller)."
   ]
  },
  {
   "cell_type": "markdown",
   "metadata": {},
   "source": [
    "## How do I \"docment\"? What is that?\n",
    "\n",
    "A sprint-specific style guide is available [here](https://github.com/muellerzr/fastai-docment-sprint/blob/master/docs_src/style-guide.md) detailing this process, and the overall fastai-specific style-guide is available [here](https://docs.fast.ai/dev/style.html)."
   ]
  },
  {
   "cell_type": "markdown",
   "metadata": {},
   "source": [
    "## How do I begin?\n",
    "\n",
    "From the [sprint-repo](https://github.com/muellerzr/fastai-docment-sprint) hit the \"Fork\" button on the top right corner, and begin editing your branch.\n",
    "\n",
    "Be sure to check the active [issues](https://github.com/muellerzr/fastai-docment-sprint/issues) to see what sections of the library still need to be done to pick what you would like to `docment`\n",
    "\n",
    "Once you are ready, open a \"Pull Request\" in the repo pointing to your fork, and write a clean Pull Request from the template describing what you docmented!\n",
    "\n",
    "For a full video guide of this in-depth, please follow this link (LINK WILL BE LIVE POST STREAM)"
   ]
  }
 ],
 "metadata": {
  "jekyll": {
   "keywords": "fastai"
  },
  "jupytext": {
   "split_at_heading": true
  },
  "kernelspec": {
   "display_name": "Python 3 (ipykernel)",
   "language": "python",
   "name": "python3"
  }
 },
 "nbformat": 4,
 "nbformat_minor": 4
}
